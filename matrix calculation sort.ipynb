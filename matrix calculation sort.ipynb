{
 "cells": [
  {
   "cell_type": "code",
   "execution_count": 4,
   "id": "10345d44",
   "metadata": {
    "code_folding": []
   },
   "outputs": [
    {
     "name": "stdout",
     "output_type": "stream",
     "text": [
      "the length of list is 9999\n",
      "[0.000e+00 1.000e+00 2.000e+00 ... 9.997e+03 9.998e+03 9.999e+03]\n"
     ]
    }
   ],
   "source": [
    "#Using the sorting method of parallel matrix calculation, the time complexity is O(n) (false, because the matrix length is n) The feature is: only the calculation of the matrix is needed, not the general parallelism\n",
    "#Currently the actual effect is still far lower than the theoretical expectation. If it can be tested on the gpu, it may be able to really play a super effect\n",
    "#A modification of Odd Even Transposition Sort: only the calculation of the matrix is needed, not the general parallelism\n",
    "#See Odd Even Transposition Sort: https://www.geeksforgeeks.org/odd-even-transposition-sort-brick-sort-using-pthreads/\n",
    "\n",
    "import random\n",
    "import numpy as np\n",
    "sample=random.sample(range(0,10000),9999) #Currently only consider the case where the length of the list is an odd number, and the input numbers are all positive numbers\n",
    "\n",
    "a=sample\n",
    "print(\"the length of list is\",len(a))\n",
    "a=np.array(a)\n",
    "\n",
    "odd_index=range(0,len(a),2)\n",
    "even_index=range(1,len(a),2)\n",
    "\n",
    "def mover(a,i):\n",
    "    #moverleft\n",
    "    odd=a[odd_index]\n",
    "    even=a[even_index]\n",
    "    if i%2==0:\n",
    "        savenum=odd[len(odd)-1] #keep the last bit that was discarded\n",
    "        odd=odd[0:len(odd)-1] #It means mover is at the left side.\n",
    "    else:\n",
    "        savenum=odd[0] #keep the first bit that was discarded\n",
    "        odd=odd[1:len(odd)] #It means mover is at the right side.\n",
    "\n",
    "    #Calculate the denominator of the fraction\n",
    "    sum=odd+even\n",
    "\n",
    "    #Calculate the relatively larger and smaller numbers\n",
    "    proba_odd=odd/sum\n",
    "    proba_even=even/sum\n",
    "    proba_odd=np.around(proba_odd, 0)        #get the scale to 1 or 0\n",
    "    proba_even=np.around(proba_even, 0)      #get the scale to 1 or 0\n",
    "    bigger=proba_odd*odd+proba_even*even     #calculate the bigger numbers, has bug when the values are the same\n",
    "    smaller=odd+even-bigger                  #calculate the smaller numbers from the bigger numbers\n",
    "\n",
    "    #merge the samller numbers and biggers number together\n",
    "    matrix=np.array([smaller, bigger])\n",
    "    matrix=matrix.transpose()\n",
    "    b = matrix.flatten()\n",
    "    if i%2==0:\n",
    "        b = np.append(b,savenum)\n",
    "    else:\n",
    "        b = np.append(savenum,b)\n",
    "    return b\n",
    "\n",
    "def rearrange(alist):\n",
    "    for i in range(0,len(alist)):\n",
    "            alist=mover(alist,i)\n",
    "    return alist\n",
    "\n",
    "a=rearrange(a)\n",
    "print(a)"
   ]
  }
 ],
 "metadata": {
  "kernelspec": {
   "display_name": "test",
   "language": "python",
   "name": "python3"
  },
  "language_info": {
   "codemirror_mode": {
    "name": "ipython",
    "version": 3
   },
   "file_extension": ".py",
   "mimetype": "text/x-python",
   "name": "python",
   "nbconvert_exporter": "python",
   "pygments_lexer": "ipython3",
   "version": "3.9.13"
  },
  "vscode": {
   "interpreter": {
    "hash": "878bffeb0fb15a99370294f5c8478c659405646b0f38a492aa81372ba7a16acc"
   }
  }
 },
 "nbformat": 4,
 "nbformat_minor": 5
}
